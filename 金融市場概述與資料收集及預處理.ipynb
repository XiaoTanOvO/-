{
  "nbformat": 4,
  "nbformat_minor": 0,
  "metadata": {
    "colab": {
      "provenance": [],
      "authorship_tag": "ABX9TyOs8RzIPkauvCP89ypfGfjN",
      "include_colab_link": true
    },
    "kernelspec": {
      "name": "python3",
      "display_name": "Python 3"
    },
    "language_info": {
      "name": "python"
    }
  },
  "cells": [
    {
      "cell_type": "markdown",
      "metadata": {
        "id": "view-in-github",
        "colab_type": "text"
      },
      "source": [
        "<a href=\"https://colab.research.google.com/github/XiaoTanOvO/-/blob/main/%E9%87%91%E8%9E%8D%E5%B8%82%E5%A0%B4%E6%A6%82%E8%BF%B0%E8%88%87%E8%B3%87%E6%96%99%E6%94%B6%E9%9B%86%E5%8F%8A%E9%A0%90%E8%99%95%E7%90%86.ipynb\" target=\"_parent\"><img src=\"https://colab.research.google.com/assets/colab-badge.svg\" alt=\"Open In Colab\"/></a>"
      ]
    },
    {
      "cell_type": "code",
      "execution_count": 1,
      "metadata": {
        "colab": {
          "base_uri": "https://localhost:8080/"
        },
        "id": "5BXb58WRYrhm",
        "outputId": "baf111ec-414e-4caa-b97c-1d63ada57e40"
      },
      "outputs": [
        {
          "output_type": "stream",
          "name": "stdout",
          "text": [
            "Requirement already satisfied: requests in /usr/local/lib/python3.10/dist-packages (2.32.3)\n",
            "Requirement already satisfied: beautifulsoup4 in /usr/local/lib/python3.10/dist-packages (4.12.3)\n",
            "Requirement already satisfied: yfinance in /usr/local/lib/python3.10/dist-packages (0.2.43)\n",
            "Requirement already satisfied: matplotlib in /usr/local/lib/python3.10/dist-packages (3.7.1)\n",
            "Requirement already satisfied: charset-normalizer<4,>=2 in /usr/local/lib/python3.10/dist-packages (from requests) (3.3.2)\n",
            "Requirement already satisfied: idna<4,>=2.5 in /usr/local/lib/python3.10/dist-packages (from requests) (3.10)\n",
            "Requirement already satisfied: urllib3<3,>=1.21.1 in /usr/local/lib/python3.10/dist-packages (from requests) (2.0.7)\n",
            "Requirement already satisfied: certifi>=2017.4.17 in /usr/local/lib/python3.10/dist-packages (from requests) (2024.8.30)\n",
            "Requirement already satisfied: soupsieve>1.2 in /usr/local/lib/python3.10/dist-packages (from beautifulsoup4) (2.6)\n",
            "Requirement already satisfied: pandas>=1.3.0 in /usr/local/lib/python3.10/dist-packages (from yfinance) (2.1.4)\n",
            "Requirement already satisfied: numpy>=1.16.5 in /usr/local/lib/python3.10/dist-packages (from yfinance) (1.26.4)\n",
            "Requirement already satisfied: multitasking>=0.0.7 in /usr/local/lib/python3.10/dist-packages (from yfinance) (0.0.11)\n",
            "Requirement already satisfied: lxml>=4.9.1 in /usr/local/lib/python3.10/dist-packages (from yfinance) (4.9.4)\n",
            "Requirement already satisfied: platformdirs>=2.0.0 in /usr/local/lib/python3.10/dist-packages (from yfinance) (4.3.6)\n",
            "Requirement already satisfied: pytz>=2022.5 in /usr/local/lib/python3.10/dist-packages (from yfinance) (2024.2)\n",
            "Requirement already satisfied: frozendict>=2.3.4 in /usr/local/lib/python3.10/dist-packages (from yfinance) (2.4.4)\n",
            "Requirement already satisfied: peewee>=3.16.2 in /usr/local/lib/python3.10/dist-packages (from yfinance) (3.17.6)\n",
            "Requirement already satisfied: html5lib>=1.1 in /usr/local/lib/python3.10/dist-packages (from yfinance) (1.1)\n",
            "Requirement already satisfied: contourpy>=1.0.1 in /usr/local/lib/python3.10/dist-packages (from matplotlib) (1.3.0)\n",
            "Requirement already satisfied: cycler>=0.10 in /usr/local/lib/python3.10/dist-packages (from matplotlib) (0.12.1)\n",
            "Requirement already satisfied: fonttools>=4.22.0 in /usr/local/lib/python3.10/dist-packages (from matplotlib) (4.53.1)\n",
            "Requirement already satisfied: kiwisolver>=1.0.1 in /usr/local/lib/python3.10/dist-packages (from matplotlib) (1.4.7)\n",
            "Requirement already satisfied: packaging>=20.0 in /usr/local/lib/python3.10/dist-packages (from matplotlib) (24.1)\n",
            "Requirement already satisfied: pillow>=6.2.0 in /usr/local/lib/python3.10/dist-packages (from matplotlib) (10.4.0)\n",
            "Requirement already satisfied: pyparsing>=2.3.1 in /usr/local/lib/python3.10/dist-packages (from matplotlib) (3.1.4)\n",
            "Requirement already satisfied: python-dateutil>=2.7 in /usr/local/lib/python3.10/dist-packages (from matplotlib) (2.8.2)\n",
            "Requirement already satisfied: six>=1.9 in /usr/local/lib/python3.10/dist-packages (from html5lib>=1.1->yfinance) (1.16.0)\n",
            "Requirement already satisfied: webencodings in /usr/local/lib/python3.10/dist-packages (from html5lib>=1.1->yfinance) (0.5.1)\n",
            "Requirement already satisfied: tzdata>=2022.1 in /usr/local/lib/python3.10/dist-packages (from pandas>=1.3.0->yfinance) (2024.1)\n"
          ]
        }
      ],
      "source": [
        "!pip install requests beautifulsoup4 yfinance matplotlib"
      ]
    },
    {
      "cell_type": "code",
      "source": [
        "import requests\n",
        "from bs4 import BeautifulSoup\n",
        "import pandas as pd\n",
        "import matplotlib.pyplot as plt\n",
        "\n",
        "# 定義爬取資料的函式\n",
        "def get_twse_stock_data(stock_id, date):\n",
        "    url = f\"https://www.twse.com.tw/exchangeReport/STOCK_DAY?response=html&date={date}&stockNo={stock_id}\"\n",
        "    response = requests.get(url)\n",
        "    soup = BeautifulSoup(response.text, 'html.parser')\n",
        "\n",
        "    # 解析表格資料\n",
        "    table = soup.find_all('table')[0]\n",
        "    rows = table.find_all('tr')\n",
        "    data = []\n",
        "\n",
        "    for row in rows[2:]:  # 跳過前兩行標題\n",
        "        cols = row.find_all('td')\n",
        "        cols = [col.text.strip() for col in cols]\n",
        "        if len(cols) > 0:\n",
        "            data.append(cols)\n",
        "\n",
        "    # 建立 DataFrame\n",
        "    columns = ['日期', '成交股數', '成交金額', '開盤價', '最高價', '最低價', '收盤價', '漲跌價差', '成交筆數']\n",
        "    df = pd.DataFrame(data, columns=columns)\n",
        "\n",
        "    # 轉換數據類型\n",
        "    df['日期'] = df['日期'].str.replace(',', '')\n",
        "    df['成交股數'] = df['成交股數'].str.replace(',', '').astype(int)\n",
        "    df['成交金額'] = df['成交金額'].str.replace(',', '').astype(int)\n",
        "    df['開盤價'] = df['開盤價'].str.replace(',', '').astype(float)\n",
        "    df['最高價'] = df['最高價'].str.replace(',', '').astype(float)\n",
        "    df['最低價'] = df['最低價'].str.replace(',', '').astype(float)\n",
        "    df['收盤價'] = df['收盤價'].str.replace(',', '').astype(float)\n",
        "    df['漲跌價差'] = df['漲跌價差'].str.replace(',', '')\n",
        "    df['成交筆數'] = df['成交筆數'].str.replace(',', '').astype(int)\n",
        "\n",
        "    return df\n",
        "\n",
        "# 範例使用\n",
        "stock_id = '2330'  # 台積電\n",
        "date = '20230901'  # 查詢日期範例\n",
        "twse_df = get_twse_stock_data(stock_id, date)\n",
        "print(twse_df.head())\n",
        "\n",
        "# 可視化\n",
        "# plt.figure(figsize=(14, 7))\n",
        "# plt.plot(twse_df['日期'], twse_df['收盤價'], marker='o', linestyle='-')\n",
        "# plt.title(f'TWSE Stock Price for {stock_id}')\n",
        "# plt.xlabel('Date')\n",
        "# plt.ylabel('Closing Price')\n",
        "# plt.grid(True)\n",
        "# plt.show()\n"
      ],
      "metadata": {
        "colab": {
          "base_uri": "https://localhost:8080/"
        },
        "id": "ABA9jnTELVPd",
        "outputId": "cb17c36f-fd78-4c3a-fa30-f51f12056cad"
      },
      "execution_count": 8,
      "outputs": [
        {
          "output_type": "stream",
          "name": "stdout",
          "text": [
            "          日期      成交股數         成交金額    開盤價    最高價    最低價    收盤價   漲跌價差   成交筆數\n",
            "0  112/09/01  15194921   8331995536  543.0  553.0  543.0  548.0  -1.00  12739\n",
            "1  112/09/04   9772925   5412329762  549.0  557.0  549.0  557.0  +9.00  12158\n",
            "2  112/09/05  14337041   7911531475  553.0  555.0  550.0  552.0  -5.00  13714\n",
            "3  112/09/06  14442757   7972706415  556.0  556.0  550.0  550.0  -2.00  12752\n",
            "4  112/09/07  22610385  12305542681  546.0  548.0  542.0  542.0  -8.00  41564\n"
          ]
        }
      ]
    },
    {
      "cell_type": "code",
      "source": [
        "import yfinance as yf\n",
        "\n",
        "# 使用 yfinance 獲取 Yahoo 股價資料\n",
        "def get_yahoo_stock_data(ticker):\n",
        "    stock = yf.Ticker(ticker)\n",
        "    df = stock.history(period=\"1mo\")\n",
        "    return df\n",
        "\n",
        "# 範例使用\n",
        "ticker = \"2330.TW\"  # 台積電在 Yahoo 的代號\n",
        "yahoo_df = get_yahoo_stock_data(ticker)\n",
        "print(yahoo_df.head())\n",
        "\n",
        "# 可視化\n",
        "# plt.figure(figsize=(14, 7))\n",
        "# plt.plot(yahoo_df.index, yahoo_df['Close'], marker='o', linestyle='-')\n",
        "# plt.title(f'Yahoo Stock Price for {ticker}')\n",
        "# plt.xlabel('Date')\n",
        "# plt.ylabel('Closing Price')\n",
        "# plt.grid(True)\n",
        "# plt.show()\n"
      ],
      "metadata": {
        "colab": {
          "base_uri": "https://localhost:8080/"
        },
        "id": "xaPezgUhLWUf",
        "outputId": "ccacbe93-e2e2-49e7-f62a-5651ec15ba26"
      },
      "execution_count": 10,
      "outputs": [
        {
          "output_type": "stream",
          "name": "stdout",
          "text": [
            "                                 Open        High         Low       Close  \\\n",
            "Date                                                                        \n",
            "2024-08-20 00:00:00+08:00  972.662478  972.662478  963.702435  968.680237   \n",
            "2024-08-21 00:00:00+08:00  956.733507  959.720188  951.755705  953.746826   \n",
            "2024-08-22 00:00:00+08:00  953.746816  959.720178  943.791212  946.777893   \n",
            "2024-08-23 00:00:00+08:00  939.808942  947.773424  934.831140  944.786743   \n",
            "2024-08-26 00:00:00+08:00  952.751271  956.733513  940.804547  945.782349   \n",
            "\n",
            "                             Volume  Dividends  Stock Splits  \n",
            "Date                                                          \n",
            "2024-08-20 00:00:00+08:00  24039959        0.0           0.0  \n",
            "2024-08-21 00:00:00+08:00  29758188        0.0           0.0  \n",
            "2024-08-22 00:00:00+08:00  24349754        0.0           0.0  \n",
            "2024-08-23 00:00:00+08:00  27592153        0.0           0.0  \n",
            "2024-08-26 00:00:00+08:00  25057581        0.0           0.0  \n"
          ]
        }
      ]
    }
  ]
}